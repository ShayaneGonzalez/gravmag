{
 "cells": [
  {
   "cell_type": "markdown",
   "metadata": {},
   "source": [
    "# Gravity disturbance produced by a prism"
   ]
  },
  {
   "cell_type": "markdown",
   "metadata": {},
   "source": [
    "This code illustrates how to compute the gravity disturbance produced by a homogeneous rectangular prism. We presume that the gravity disturbance can be approximated by the vertical componen of the gravitational attraction produced by the prism."
   ]
  },
  {
   "cell_type": "markdown",
   "metadata": {},
   "source": [
    "### Things we have to import"
   ]
  },
  {
   "cell_type": "code",
   "execution_count": 1,
   "metadata": {},
   "outputs": [],
   "source": [
    "import numpy as np\n",
    "from numba import njit\n",
    "import matplotlib.pyplot as plt\n",
    "import prism\n",
    "import plot_functions as plf"
   ]
  },
  {
   "cell_type": "markdown",
   "metadata": {},
   "source": [
    "### Model"
   ]
  },
  {
   "cell_type": "code",
   "execution_count": 2,
   "metadata": {},
   "outputs": [],
   "source": [
    "# Create a model formed by a single prism\n",
    "model = np.array([[-500, 500, -700, 800, 10, 1010]])\n",
    "\n",
    "density = np.array([2000]) # 2000 kg/m³ = 2 g/cm³"
   ]
  },
  {
   "cell_type": "markdown",
   "metadata": {},
   "source": [
    "### Points were we compute the synthetic data"
   ]
  },
  {
   "cell_type": "code",
   "execution_count": 3,
   "metadata": {},
   "outputs": [],
   "source": [
    "# number of points along x and y\n",
    "shape = (100, 100)\n",
    "\n",
    "# minimum x, maximum x, minimum y and maximum y\n",
    "area = [-5000, 5000, -4000, 6000]\n",
    "\n",
    "# coordinates \n",
    "yp = np.linspace(area[0], area[1], shape[0])\n",
    "xp = np.linspace(area[2], area[3], shape[1])\n",
    "yp, xp = np.meshgrid(yp, xp)\n",
    "\n",
    "yp = np.ravel(yp)\n",
    "xp = np.ravel(xp)\n",
    "zp = np.zeros_like(yp) - 150\n",
    "\n",
    "coordinates = np.vstack([yp, xp, zp])"
   ]
  },
  {
   "cell_type": "markdown",
   "metadata": {},
   "source": [
    "### Synthetic gravity disturbance (in mGal)"
   ]
  },
  {
   "cell_type": "code",
   "execution_count": 4,
   "metadata": {},
   "outputs": [],
   "source": [
    "# Compute the vertical component of acceleration\n",
    "gz = prism.grav(coordinates=coordinates, \n",
    "                prisms=model, \n",
    "                density=density, \n",
    "                field='g_z')"
   ]
  },
  {
   "cell_type": "markdown",
   "metadata": {},
   "source": [
    "### Plot the computed gravity disturbance"
   ]
  },
  {
   "cell_type": "code",
   "execution_count": 5,
   "metadata": {},
   "outputs": [
    {
     "data": {
      "image/png": "[encoded data removed]",
      "text/plain": [
       "<Figure size 432x360 with 2 Axes>"
      ]
     },
     "metadata": {
      "needs_background": "light"
     },
     "output_type": "display_data"
    }
   ],
   "source": [
    "plt.figure(figsize=(6,5))\n",
    "\n",
    "plt.title(\"Gravity disturbance (mGal)\")\n",
    "plt.axis('scaled')\n",
    "plt.contourf(yp.reshape(shape)*0.001, \n",
    "             xp.reshape(shape)*0.001, \n",
    "             gz.reshape(shape), cmap='Reds')\n",
    "plt.colorbar()\n",
    "plf.model_boundaries(model)\n",
    "plt.xlim(0.001*area[0], 0.001*area[1])\n",
    "plt.ylim(0.001*area[2], 0.001*area[3])\n",
    "plt.xlabel('y (km)', fontsize=14)\n",
    "plt.ylabel('x (km)', fontsize=14)\n",
    "\n",
    "plt.tight_layout()\n",
    "\n",
    "plt.show()"
   ]
  },
  {
   "cell_type": "code",
   "execution_count": null,
   "metadata": {},
   "outputs": [],
   "source": []
  }
 ],
 "metadata": {
  "kernelspec": {
   "display_name": "Python 3 (ipykernel)",
   "language": "python",
   "name": "python3"
  },
  "language_info": {
   "codemirror_mode": {
    "name": "ipython",
    "version": 3
   },
   "file_extension": ".py",
   "mimetype": "text/x-python",
   "name": "python",
   "nbconvert_exporter": "python",
   "pygments_lexer": "ipython3",
   "version": "3.7.7"
  }
 },
 "nbformat": 4,
 "nbformat_minor": 1
}
