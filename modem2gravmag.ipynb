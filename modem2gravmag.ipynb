{
 "cells": [
  {
   "cell_type": "markdown",
   "id": "multiple-farming",
   "metadata": {},
   "source": [
    "### Things we have to import"
   ]
  },
  {
   "cell_type": "code",
   "execution_count": 1,
   "id": "incorrect-damages",
   "metadata": {},
   "outputs": [],
   "source": [
    "import numpy as np\n",
    "from numba import njit\n",
    "import matplotlib.pyplot as plt\n",
    "\n",
    "import prism\n",
    "import plot_functions as plf"
   ]
  },
  {
   "cell_type": "markdown",
   "id": "given-fifteen",
   "metadata": {},
   "source": [
    "### Extract model from modem file"
   ]
  },
  {
   "cell_type": "code",
   "execution_count": 2,
   "id": "latter-contact",
   "metadata": {},
   "outputs": [],
   "source": [
    "with open(\"modem_model\") as file:\n",
    "    \n",
    "    # ignore 1st line with '#'\n",
    "    line = file.readline().split()\n",
    "    # read 2nd line and convert nx, ny and nz values to int\n",
    "    line = file.readline().split()\n",
    "    nx = int(line[0])\n",
    "    ny = int(line[1])\n",
    "    nz = int(line[2])\n",
    "    # read 3rd line and convert dx values to numpy.array 1d\n",
    "    line = file.readline().split()\n",
    "    dx = np.array(line, dtype='float')\n",
    "    # read 4th line and convert dy values to numpy.array 1d\n",
    "    line = file.readline().split()\n",
    "    dy = np.array(line, dtype='float')\n",
    "    # read 5th line and convert dz values to numpy.array 1d\n",
    "    line = file.readline().split()\n",
    "    dz = np.array(line, dtype='float')\n",
    "    \n",
    "    # read empty line\n",
    "    line = file.readline().split()\n",
    "    \n",
    "    # iterate over the model to get the resistivities\n",
    "    res = []\n",
    "    for k in range(nz):\n",
    "        for j in range(ny):\n",
    "            # read line with resistivity values at constant z and y\n",
    "            line = file.readline().split()\n",
    "            # convert value to float\n",
    "            line = list(map(float, line))\n",
    "            # append converted line to list 'res'\n",
    "            res.append(line)\n",
    "        # read empty line\n",
    "        line = file.readline().split()\n",
    "\n",
    "    # convert resistivities values to numpy array 1d\n",
    "    res = np.hstack(res)\n",
    "    \n",
    "    # read x0 and y0 values\n",
    "    x0 = float(line[0])\n",
    "    y0 = float(line[1])\n",
    "    z0 = 0.0"
   ]
  },
  {
   "cell_type": "markdown",
   "id": "opponent-transcript",
   "metadata": {},
   "source": [
    "### Create the model geometry"
   ]
  },
  {
   "cell_type": "code",
   "execution_count": 3,
   "id": "economic-harbor",
   "metadata": {},
   "outputs": [],
   "source": [
    "# define the edge locations\n",
    "x = x0 + np.hstack([0., np.cumsum(dx)])\n",
    "y = y0 + np.hstack([0., np.cumsum(dy)])\n",
    "z = z0 + np.hstack([0., np.cumsum(dz)])"
   ]
  },
  {
   "cell_type": "code",
   "execution_count": 4,
   "id": "professional-canvas",
   "metadata": {},
   "outputs": [],
   "source": [
    "# iterate over the edge locations to create the model\n",
    "model = []\n",
    "for z1, z2 in zip(z[0:-1:1], z[1::1]):\n",
    "    for y1, y2 in zip(y[0:-1:1], y[1::1]):\n",
    "        for x1, x2 in zip(x[0:-1:1], x[1::1]):\n",
    "            model.append([y1, y2, x1, x2, z1, z2])\n",
    "model = np.vstack(model)"
   ]
  },
  {
   "cell_type": "code",
   "execution_count": 5,
   "id": "functioning-partition",
   "metadata": {},
   "outputs": [
    {
     "data": {
      "text/plain": [
       "(18000, 6)"
      ]
     },
     "execution_count": 5,
     "metadata": {},
     "output_type": "execute_result"
    }
   ],
   "source": [
    "model.shape"
   ]
  },
  {
   "cell_type": "code",
   "execution_count": 6,
   "id": "judicial-dryer",
   "metadata": {},
   "outputs": [
    {
     "name": "stdout",
     "output_type": "stream",
     "text": [
      "[[-10880.     -9023.535 -10880.     -9023.535      0.        50.   ]\n",
      " [-10880.     -9023.535  -9023.535  -7595.485      0.        50.   ]\n",
      " [-10880.     -9023.535  -7595.485  -6496.985      0.        50.   ]\n",
      " [-10880.     -9023.535  -6496.985  -5651.985      0.        50.   ]\n",
      " [-10880.     -9023.535  -5651.985  -5001.985      0.        50.   ]\n",
      " [-10880.     -9023.535  -5001.985  -4501.985      0.        50.   ]\n",
      " [-10880.     -9023.535  -4501.985  -4001.985      0.        50.   ]\n",
      " [-10880.     -9023.535  -4001.985  -3501.985      0.        50.   ]\n",
      " [-10880.     -9023.535  -3501.985  -3001.985      0.        50.   ]\n",
      " [-10880.     -9023.535  -3001.985  -2501.985      0.        50.   ]]\n"
     ]
    }
   ],
   "source": [
    "print(model[:10])"
   ]
  },
  {
   "cell_type": "markdown",
   "id": "incorporated-contamination",
   "metadata": {},
   "source": [
    "### Convert resistivities to densities"
   ]
  },
  {
   "cell_type": "code",
   "execution_count": 7,
   "id": "stone-sugar",
   "metadata": {},
   "outputs": [],
   "source": [
    "# simple function just for testing\n",
    "dens = 1*res"
   ]
  },
  {
   "cell_type": "code",
   "execution_count": 8,
   "id": "subjective-stomach",
   "metadata": {},
   "outputs": [
    {
     "name": "stdout",
     "output_type": "stream",
     "text": [
      "[100. 100. 100. 100. 100. 100. 100. 100. 100. 100. 100. 100. 100. 100.\n",
      " 100. 100. 100. 100. 100. 100. 100.]\n"
     ]
    }
   ],
   "source": [
    "print(res[200:221])"
   ]
  },
  {
   "cell_type": "code",
   "execution_count": 9,
   "id": "annual-battery",
   "metadata": {},
   "outputs": [
    {
     "name": "stdout",
     "output_type": "stream",
     "text": [
      "[100. 100. 100. 100. 100. 100. 100. 100. 100. 100. 100. 100. 100. 100.\n",
      " 100. 100. 100. 100. 100. 100. 100.]\n"
     ]
    }
   ],
   "source": [
    "print(dens[200:221])"
   ]
  },
  {
   "cell_type": "markdown",
   "id": "phantom-maine",
   "metadata": {},
   "source": [
    "### Create the computation points"
   ]
  },
  {
   "cell_type": "markdown",
   "id": "statutory-eleven",
   "metadata": {},
   "source": [
    "For convenience, the computation points are created at the center of the prisms, at $z = 0$."
   ]
  },
  {
   "cell_type": "code",
   "execution_count": 10,
   "id": "official-hayes",
   "metadata": {},
   "outputs": [],
   "source": [
    "# number of prisms along x and y\n",
    "shape = (nx, ny)"
   ]
  },
  {
   "cell_type": "code",
   "execution_count": 11,
   "id": "herbal-catalyst",
   "metadata": {},
   "outputs": [],
   "source": [
    "# minimum x, maximum x, minimum y and maximum y\n",
    "area = [np.min(x)+0.5*dx[0], np.max(x)-0.5*dx[-1], \n",
    "        np.min(y)+0.5*dy[0], np.max(y)-0.5*dy[-1]]"
   ]
  },
  {
   "cell_type": "code",
   "execution_count": 12,
   "id": "cardiovascular-baseline",
   "metadata": {},
   "outputs": [],
   "source": [
    "# define the coordinates\n",
    "xp = x[0:-1:1] + 0.5*dx\n",
    "yp = y[0:-1:1] + 0.5*dy\n",
    "\n",
    "xp, yp = np.meshgrid(xp, yp)\n",
    "\n",
    "xp = np.ravel(xp)\n",
    "yp = np.ravel(yp)\n",
    "zp = np.zeros_like(xp) - 0.\n",
    "\n",
    "coordinates = np.vstack([yp, xp, zp])"
   ]
  },
  {
   "cell_type": "markdown",
   "id": "german-asian",
   "metadata": {},
   "source": [
    "### Synthetic gravity disturbance (in mGal)"
   ]
  },
  {
   "cell_type": "code",
   "execution_count": 13,
   "id": "abroad-strand",
   "metadata": {},
   "outputs": [],
   "source": [
    "# Compute the vertical component of acceleration\n",
    "gz = prism.grav(coordinates=coordinates, \n",
    "                prisms=model, \n",
    "                density=dens, \n",
    "                field='g_z')"
   ]
  },
  {
   "cell_type": "markdown",
   "id": "fantastic-europe",
   "metadata": {},
   "source": [
    "### Plot the computed gravity disturbance"
   ]
  },
  {
   "cell_type": "code",
   "execution_count": 14,
   "id": "guilty-ladder",
   "metadata": {},
   "outputs": [
    {
     "data": {
      "image/png": "[encoded data removed]",
      "text/plain": [
       "<Figure size 720x576 with 2 Axes>"
      ]
     },
     "metadata": {
      "needs_background": "light"
     },
     "output_type": "display_data"
    }
   ],
   "source": [
    "plt.figure(figsize=(10,8))\n",
    "\n",
    "plt.title(\"Gravity disturbance (mGal)\")\n",
    "plt.axis('scaled')\n",
    "\n",
    "# gravity disturbance map\n",
    "plt.contourf(yp.reshape(shape)*0.001, \n",
    "             xp.reshape(shape)*0.001, \n",
    "             gz.reshape(shape), cmap='Reds')\n",
    "plt.colorbar()\n",
    "\n",
    "# boundaries of the prisms\n",
    "plf.model_boundaries(model, m2km=True)\n",
    "\n",
    "# computation points\n",
    "plt.plot(yp.ravel()*0.001, xp.ravel()*0.001, 'b.')\n",
    "\n",
    "plt.xlim(0.001*area[0], 0.001*area[1])\n",
    "plt.ylim(0.001*area[2], 0.001*area[3])\n",
    "plt.xlabel('y (km)', fontsize=14)\n",
    "plt.ylabel('x (km)', fontsize=14)\n",
    "\n",
    "plt.tight_layout()\n",
    "\n",
    "plt.show()"
   ]
  },
  {
   "cell_type": "code",
   "execution_count": null,
   "id": "hollow-collins",
   "metadata": {},
   "outputs": [],
   "source": []
  }
 ],
 "metadata": {
  "kernelspec": {
   "display_name": "Python 3",
   "language": "python",
   "name": "python3"
  },
  "language_info": {
   "codemirror_mode": {
    "name": "ipython",
    "version": 3
   },
   "file_extension": ".py",
   "mimetype": "text/x-python",
   "name": "python",
   "nbconvert_exporter": "python",
   "pygments_lexer": "ipython3",
   "version": "3.7.7"
  }
 },
 "nbformat": 4,
 "nbformat_minor": 5
}
