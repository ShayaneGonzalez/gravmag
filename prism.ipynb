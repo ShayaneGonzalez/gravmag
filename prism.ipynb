{
 "cells": [
  {
   "cell_type": "markdown",
   "metadata": {},
   "source": [
    "# Prototype prism"
   ]
  },
  {
   "cell_type": "markdown",
   "metadata": {},
   "source": [
    "This notebook presents a general approach for implementing the gravitational potential and the vertical component of the gravitational acceleration produced by a rectangular prism by using the analytical formulas of Nagy et al (2000, 2002). This prototype is highly inspired on [Harmonica](https://www.fatiando.org/harmonica/latest/index.html) (Uieda et al, 2020). It makes use of the modified arctangent function proposed by Fukushima (2020, eq. 72) and of a modified logarithm function for dealing with singularities at some computation points.\n",
    "\n",
    "* Nagy, D., Papp, G., and Benedek, J. (2000). The gravitational potential and its derivatives for the prism: Journal of Geodesy, 74, 552–560, http://doi.org/10.1007/s001900000116.\n",
    "* Nagy, D., Papp, G., and Benedek, J. (2002). Corrections to \"The gravitational potential and its derivatives for the prism\": Journal of Geodesy, 76, 475, http://doi.org/10.1007/s00190-002-0264-7\n",
    "* Fukushima, T. (2020). Speed and accuracy improvements in standard algorithm for prismatic gravitational field. Geophysical Journal International, 222(3), 1898–1908. http://doi.org/10.1093/gji/ggaa240 \n",
    "* Uieda, Leonardo, Soler, Santiago R., Pesce, Agustina, Oliveira Jr, Vanderlei C, and Shea, Nicholas. (2020, February 27). Harmonica: Forward modeling, inversion, and processing gravity and magnetic data (Version v0.1.0). Zenodo. http://doi.org/10.5281/zenodo.3628742"
   ]
  },
  {
   "cell_type": "code",
   "execution_count": 1,
   "metadata": {},
   "outputs": [],
   "source": [
    "import numpy as np\n",
    "from numba import njit\n",
    "import matplotlib.pyplot as plt"
   ]
  },
  {
   "cell_type": "code",
   "execution_count": 2,
   "metadata": {},
   "outputs": [],
   "source": [
    "import prism"
   ]
  },
  {
   "cell_type": "code",
   "execution_count": 3,
   "metadata": {},
   "outputs": [
    {
     "name": "stdout",
     "output_type": "stream",
     "text": [
      "(3, 900)\n"
     ]
    },
    {
     "data": {
      "text/plain": [
       "array([-4000.        , -3655.17241379, -3310.34482759, -2965.51724138,\n",
       "       -2620.68965517, -2275.86206897, -1931.03448276, -1586.20689655,\n",
       "       -1241.37931034,  -896.55172414,  -551.72413793,  -206.89655172,\n",
       "         137.93103448,   482.75862069,   827.5862069 ,  1172.4137931 ,\n",
       "        1517.24137931,  1862.06896552,  2206.89655172,  2551.72413793,\n",
       "        2896.55172414,  3241.37931034,  3586.20689655,  3931.03448276,\n",
       "        4275.86206897,  4620.68965517,  4965.51724138,  5310.34482759,\n",
       "        5655.17241379,  6000.        ])"
      ]
     },
     "execution_count": 3,
     "metadata": {},
     "output_type": "execute_result"
    }
   ],
   "source": [
    "# Create a set of computation points\n",
    "shape = (30, 30)\n",
    "y = np.linspace(-5000, 5000, shape[0])\n",
    "x = np.linspace(-4000, 6000, shape[1])\n",
    "y, x = np.meshgrid(y, x)\n",
    "\n",
    "y = np.ravel(y)\n",
    "x = np.ravel(x)\n",
    "z = np.zeros_like(y) - 150\n",
    "\n",
    "coordinates = np.vstack([y, x, z])\n",
    "print(coordinates.shape)\n",
    "\n",
    "y[:shape[0]:]\n",
    "\n",
    "x[::shape[1]]"
   ]
  },
  {
   "cell_type": "raw",
   "metadata": {},
   "source": [
    "# Create a model formed by two prisms\n",
    "model = np.array([[-3000, -2500, -4000, -3000, 500, 1300],\n",
    "                  [ 1800,  2350,    10,  2500, 300, 1000]])\n",
    "\n",
    "density = np.array([1000, 1200])\n",
    "magnetization = np.array([[1.0, 30, -10],\n",
    "                          [1.1, 60, 40]])"
   ]
  },
  {
   "cell_type": "code",
   "execution_count": 4,
   "metadata": {},
   "outputs": [],
   "source": [
    "# Create a model formed by a single prisms\n",
    "model = np.array([[-600, 700, -800, 500, 500, 1300]])\n",
    "\n",
    "density = np.array([1000]) # 1000 kg/m³ = 1 g/cm³\n",
    "\n",
    "# magnetization: intensity (A/m), inclination and declination (degrees)\n",
    "magnetization = np.array([[1.0, 90, 0]])"
   ]
  },
  {
   "cell_type": "code",
   "execution_count": 5,
   "metadata": {},
   "outputs": [],
   "source": [
    "# Compute the gravitational potential\n",
    "U = prism.grav(coordinates=coordinates, \n",
    "               prisms=model, \n",
    "               density=density, \n",
    "               field='g_potential')"
   ]
  },
  {
   "cell_type": "code",
   "execution_count": 6,
   "metadata": {},
   "outputs": [],
   "source": [
    "# Compute the vertical component of acceleration\n",
    "gz = prism.grav(coordinates=coordinates, \n",
    "                prisms=model, \n",
    "                density=density, \n",
    "                field='g_z')"
   ]
  },
  {
   "cell_type": "code",
   "execution_count": 7,
   "metadata": {},
   "outputs": [],
   "source": [
    "# Compute the zz-component of acceleration\n",
    "gzz = prism.grav(coordinates=coordinates, \n",
    "                 prisms=model, \n",
    "                 density=density, \n",
    "                 field='g_zz')"
   ]
  },
  {
   "cell_type": "code",
   "execution_count": 8,
   "metadata": {},
   "outputs": [
    {
     "data": {
      "image/png": "[encoded data removed]",
      "text/plain": [
       "<Figure size 1080x360 with 6 Axes>"
      ]
     },
     "metadata": {
      "needs_background": "light"
     },
     "output_type": "display_data"
    }
   ],
   "source": [
    "# Plot the results\n",
    "plt.figure(figsize=(15,5))\n",
    "\n",
    "plt.subplot(131)\n",
    "ranges = np.max(np.abs(U))\n",
    "plt.contourf(y[:shape[0]:]*0.001, x[::shape[1]]*0.001, U.reshape(shape), \n",
    "             cmap='seismic', vmin=-ranges, vmax=ranges)\n",
    "plt.colorbar()\n",
    "plt.ylabel('x (km)', fontsize=16)\n",
    "plt.xlabel('y (km)', fontsize=16)\n",
    "\n",
    "plt.subplot(132)\n",
    "ranges = np.max(np.abs(gz))\n",
    "plt.contourf(y[:shape[0]:]*0.001, x[::shape[1]]*0.001, gz.reshape(shape), \n",
    "             cmap='seismic', vmin=-ranges, vmax=ranges)\n",
    "plt.colorbar()\n",
    "plt.xlabel('y (km)', fontsize=16)\n",
    "\n",
    "plt.subplot(133)\n",
    "ranges = np.max(np.abs(gzz))\n",
    "plt.contourf(y[:shape[0]:]*0.001, x[::shape[1]]*0.001, gzz.reshape(shape), \n",
    "             cmap='seismic', vmin=-ranges, vmax=ranges)\n",
    "plt.colorbar()\n",
    "plt.xlabel('y (km)', fontsize=16)\n",
    "\n",
    "plt.tight_layout()\n",
    "\n",
    "plt.show()"
   ]
  },
  {
   "cell_type": "code",
   "execution_count": 9,
   "metadata": {},
   "outputs": [],
   "source": [
    "# Compute the magnetic potential\n",
    "V = prism.mag(coordinates=coordinates, \n",
    "              prisms=model, \n",
    "              magnetization=magnetization, \n",
    "              field='b_potential')"
   ]
  },
  {
   "cell_type": "code",
   "execution_count": 10,
   "metadata": {},
   "outputs": [],
   "source": [
    "# Compute the vertical component of induction\n",
    "bz = prism.mag(coordinates=coordinates, \n",
    "               prisms=model, \n",
    "               magnetization=magnetization,\n",
    "               field='b_z')"
   ]
  },
  {
   "cell_type": "code",
   "execution_count": 11,
   "metadata": {},
   "outputs": [],
   "source": [
    "# Compute the x-component of induction\n",
    "bx = prism.mag(coordinates=coordinates, \n",
    "               prisms=model, \n",
    "               magnetization=magnetization,\n",
    "               field='b_x')"
   ]
  },
  {
   "cell_type": "code",
   "execution_count": 12,
   "metadata": {},
   "outputs": [],
   "source": [
    "# Compute the y-component of induction\n",
    "by = prism.mag(coordinates=coordinates, \n",
    "               prisms=model, \n",
    "               magnetization=magnetization,\n",
    "               field='b_y')"
   ]
  },
  {
   "cell_type": "code",
   "execution_count": 16,
   "metadata": {},
   "outputs": [],
   "source": [
    "# ser the main field\n",
    "I0, D0 = np.deg2rad(-20), np.deg2rad(45)\n",
    "Fx = np.cos(I0)*np.cos(D0)\n",
    "Fy = np.cos(I0)*np.sin(D0)\n",
    "Fz = np.sin(I0)\n",
    "\n",
    "# compute the approximated total-field anomaly\n",
    "tf = Fx*bx + Fy*by + Fz*bz"
   ]
  },
  {
   "cell_type": "code",
   "execution_count": 17,
   "metadata": {},
   "outputs": [
    {
     "data": {
      "image/png": "[encoded data removed]",
      "text/plain": [
       "<Figure size 1080x360 with 6 Axes>"
      ]
     },
     "metadata": {
      "needs_background": "light"
     },
     "output_type": "display_data"
    }
   ],
   "source": [
    "# Plot the results\n",
    "plt.figure(figsize=(15,5))\n",
    "\n",
    "plt.subplot(131)\n",
    "ranges = np.max(np.abs(V))\n",
    "plt.contourf(y[:shape[0]:]*0.001, x[::shape[1]]*0.001, V.reshape(shape), \n",
    "             cmap='seismic', vmin=-ranges, vmax=ranges)\n",
    "plt.colorbar()\n",
    "plt.ylabel('x (km)', fontsize=16)\n",
    "plt.xlabel('y (km)', fontsize=16)\n",
    "\n",
    "plt.subplot(132)\n",
    "ranges = np.max(np.abs(bx))\n",
    "plt.contourf(y[:shape[0]:]*0.001, x[::shape[1]]*0.001, bx.reshape(shape), \n",
    "             cmap='seismic', vmin=-ranges, vmax=ranges)\n",
    "plt.colorbar()\n",
    "plt.xlabel('y (km)', fontsize=16)\n",
    "\n",
    "plt.subplot(133)\n",
    "ranges = np.max(np.abs(tf))\n",
    "plt.contourf(y[:shape[0]:]*0.001, x[::shape[1]]*0.001, tf.reshape(shape), \n",
    "             cmap='seismic', vmin=-ranges, vmax=ranges)\n",
    "plt.colorbar()\n",
    "plt.xlabel('y (km)', fontsize=16)\n",
    "\n",
    "plt.tight_layout()\n",
    "\n",
    "plt.show()"
   ]
  },
  {
   "cell_type": "code",
   "execution_count": null,
   "metadata": {},
   "outputs": [],
   "source": []
  }
 ],
 "metadata": {
  "kernelspec": {
   "display_name": "Python 3",
   "language": "python",
   "name": "python3"
  },
  "language_info": {
   "codemirror_mode": {
    "name": "ipython",
    "version": 3
   },
   "file_extension": ".py",
   "mimetype": "text/x-python",
   "name": "python",
   "nbconvert_exporter": "python",
   "pygments_lexer": "ipython3",
   "version": "3.7.7"
  }
 },
 "nbformat": 4,
 "nbformat_minor": 4
}
