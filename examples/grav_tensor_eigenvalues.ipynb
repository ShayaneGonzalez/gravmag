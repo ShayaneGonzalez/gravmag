{
 "cells": [
  {
   "cell_type": "code",
   "execution_count": null,
   "id": "6a86a08f-ab26-4ab0-81f2-d87526452ebf",
   "metadata": {},
   "outputs": [],
   "source": []
  },
  {
   "cell_type": "code",
   "execution_count": 1,
   "id": "88eccd02-b9c4-476e-a72c-d63aa4bc5f10",
   "metadata": {},
   "outputs": [],
   "source": [
    "import numpy as np\n",
    "from numpy.testing import assert_almost_equal as aae\n",
    "from numpy.testing import assert_equal as ae"
   ]
  },
  {
   "cell_type": "code",
   "execution_count": 2,
   "id": "81505341-f624-4e26-b44b-4c14e5cf852c",
   "metadata": {},
   "outputs": [],
   "source": [
    "from gravmag import inverse_distance as idist\n",
    "from gravmag import convolve as conv"
   ]
  },
  {
   "cell_type": "code",
   "execution_count": 3,
   "id": "1662d72b-1b83-4078-82ea-88e799a805f7",
   "metadata": {},
   "outputs": [],
   "source": [
    "def transpose_BTTB(BTTB):\n",
    "    \"\"\"\n",
    "    Return the data structure for the transposed BTTB matrix.\n",
    "    This function if valid only for symmetries 'symm' and 'skew'.\n",
    "    \"\"\"\n",
    "\n",
    "    columns = np.copy(BTTB[\"columns\"])\n",
    "\n",
    "    if BTTB[\"symmetry_structure\"] == \"symm\":\n",
    "        if BTTB[\"symmetry_blocks\"] == \"symm\":\n",
    "            pass\n",
    "        else: # BTTB[\"symmetry_blocks\"] == \"skew\"\n",
    "            columns[:,1:] *= -1\n",
    "    else: # BTTB[\"symmetry_structure\"] == \"skew\"\n",
    "        if BTTB[\"symmetry_blocks\"] == \"symm\":\n",
    "            columns[1:,:] *= -1\n",
    "        else: # BTTB[\"symmetry_blocks\"] == \"skew\"\n",
    "            columns[:,1:] *= -1\n",
    "            columns[1:,:] *= -1\n",
    "\n",
    "    BTTB_T = {\n",
    "        \"symmetry_structure\" : BTTB[\"symmetry_structure\"],\n",
    "        \"symmetry_blocks\" : BTTB[\"symmetry_blocks\"],\n",
    "        \"nblocks\": BTTB[\"nblocks\"],\n",
    "        \"columns\": columns,\n",
    "        \"rows\": None,\n",
    "    }\n",
    "\n",
    "    return BTTB_T"
   ]
  },
  {
   "cell_type": "raw",
   "id": "82d8001e-58e4-4dbe-9b10-fb96fe17b3d7",
   "metadata": {},
   "source": [
    "grid_yx = {\n",
    "    'x' : np.linspace(-2000., 8000., 11)[:,np.newaxis],\n",
    "    'y' : np.linspace(500., 9500., 10),\n",
    "    'z' : 0.,\n",
    "    'ordering' : 'yx'\n",
    "}"
   ]
  },
  {
   "cell_type": "code",
   "execution_count": 4,
   "id": "d6307fa6-d803-414e-9eef-4488603cc5b7",
   "metadata": {},
   "outputs": [],
   "source": [
    "grid_yx = {\n",
    "    'x' : np.arange(0, 8000, 200, dtype=float)[:,np.newaxis],\n",
    "    'y' : np.arange(0, 12000, 80, dtype=float),\n",
    "    'z' : 0.,\n",
    "    'ordering' : 'yx'\n",
    "}"
   ]
  },
  {
   "cell_type": "code",
   "execution_count": 5,
   "id": "55d3316c-1390-47ca-bbc8-4d40372b2254",
   "metadata": {},
   "outputs": [],
   "source": [
    "h=500"
   ]
  },
  {
   "cell_type": "code",
   "execution_count": 6,
   "id": "3daa3759-d43d-49dc-9c32-8c5a8d692ee0",
   "metadata": {},
   "outputs": [],
   "source": [
    "R2 = idist.sedm_BTTB(data_grid=grid_yx, delta_z=h)"
   ]
  },
  {
   "cell_type": "code",
   "execution_count": 7,
   "id": "8bc43ff3-85e5-4109-9ee5-2fffb76bb1ad",
   "metadata": {},
   "outputs": [],
   "source": [
    "tensor = idist.grad_tensor_BTTB(\n",
    "    data_grid=grid_yx,\n",
    "    delta_z=h,\n",
    "    SEDM=R2,\n",
    "    components=[\"xx\", \"xy\", \"xz\", \"yy\", \"yz\", \"zz\"],\n",
    ")"
   ]
  },
  {
   "cell_type": "code",
   "execution_count": 8,
   "id": "40ae949a-39ed-455c-ac1e-9cb08eb42aed",
   "metadata": {},
   "outputs": [],
   "source": [
    "symmetry_structure = [\n",
    "    'symm', 'skew', 'skew',\n",
    "    'symm', 'symm',\n",
    "    'symm'\n",
    "]\n",
    "\n",
    "symmetry_blocks = [\n",
    "    'symm', 'skew', 'symm',\n",
    "    'symm', 'skew',\n",
    "    'symm'\n",
    "]"
   ]
  },
  {
   "cell_type": "code",
   "execution_count": 9,
   "id": "56ecc52e-a5de-4164-b186-1f08c59ce023",
   "metadata": {},
   "outputs": [],
   "source": [
    "for (component, structure, blocks) in zip(tensor, symmetry_structure, symmetry_blocks):\n",
    "    # compute the full BTTB matrix and its transposed\n",
    "    BTTB = {\n",
    "        \"symmetry_structure\": structure,\n",
    "        \"symmetry_blocks\": blocks,\n",
    "        \"nblocks\": grid_yx['x'].size,\n",
    "        \"columns\": np.reshape(\n",
    "            a=component, newshape=(grid_yx['x'].size, grid_yx['y'].size)\n",
    "        ),\n",
    "        \"rows\": None,\n",
    "    }\n",
    "    BTTB_full = conv.generic_BTTB(BTTB=BTTB)\n",
    "    BTTB_T = transpose_BTTB(BTTB)\n",
    "    BTTB_T_full = conv.generic_BTTB(BTTB=BTTB_T)\n",
    "    ae(BTTB_full.T, BTTB_T_full)\n",
    "    # compute the eigenvalues\n",
    "    L = conv.eigenvalues_BCCB(BTTB=BTTB, ordering=\"row\")\n",
    "    L_T = conv.eigenvalues_BCCB(BTTB=BTTB_T, ordering=\"row\")\n",
    "    aae(np.conj(L), L_T, decimal=12)"
   ]
  },
  {
   "cell_type": "code",
   "execution_count": null,
   "id": "ca94a64e-608b-401a-a3f5-1a07e6ec004f",
   "metadata": {},
   "outputs": [],
   "source": []
  }
 ],
 "metadata": {
  "kernelspec": {
   "display_name": "Python 3 (ipykernel)",
   "language": "python",
   "name": "python3"
  },
  "language_info": {
   "codemirror_mode": {
    "name": "ipython",
    "version": 3
   },
   "file_extension": ".py",
   "mimetype": "text/x-python",
   "name": "python",
   "nbconvert_exporter": "python",
   "pygments_lexer": "ipython3",
   "version": "3.11.3"
  }
 },
 "nbformat": 4,
 "nbformat_minor": 5
}
