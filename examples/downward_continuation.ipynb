{
 "cells": [
  {
   "cell_type": "markdown",
   "metadata": {},
   "source": [
    "# Downward continuation of gravity disturbance produced by a prism"
   ]
  },
  {
   "cell_type": "markdown",
   "metadata": {},
   "source": [
    "This code illustrates how to compute the downward continuation of gravity disturbance produced by a homogeneous rectangular prism via Fourier transform and equivalent-layer technique. We presume that the gravity disturbance can be approximated by the vertical component of the gravitational attraction produced by the prism."
   ]
  },
  {
   "cell_type": "markdown",
   "metadata": {},
   "source": [
    "### Things we have to import"
   ]
  },
  {
   "cell_type": "code",
   "execution_count": 1,
   "metadata": {},
   "outputs": [],
   "source": [
    "import numpy as np\n",
    "import matplotlib.pyplot as plt\n",
    "from gravmag import eqlayer, filters, transforms, convolve\n",
    "from gravmag.models import rectangular_prism as rp\n",
    "from gravmag import plot_functions as plf"
   ]
  },
  {
   "cell_type": "markdown",
   "metadata": {},
   "source": [
    "### Model"
   ]
  },
  {
   "cell_type": "code",
   "execution_count": 2,
   "metadata": {},
   "outputs": [],
   "source": [
    "# Create a model formed by a single prism\n",
    "model = np.array([[-500, 500, 0, 2000, 10, 1010]])\n",
    "\n",
    "density = np.array([2000]) # 2000 kg/m³ = 2 g/cm³"
   ]
  },
  {
   "cell_type": "markdown",
   "metadata": {},
   "source": [
    "### Points were we compute the synthetic data"
   ]
  },
  {
   "cell_type": "code",
   "execution_count": 3,
   "metadata": {},
   "outputs": [],
   "source": [
    "# number of points along x and y\n",
    "shape = (60, 60)\n",
    "\n",
    "# minimum x, maximum x, minimum y and maximum y\n",
    "area = [-5000, 5000, -4000, 6000]\n",
    "\n",
    "# coordinates \n",
    "xp = np.linspace(area[0], area[1], shape[0])\n",
    "yp = np.linspace(area[2], area[3], shape[1])\n",
    "yp, xp = np.meshgrid(yp, xp)\n",
    "\n",
    "yp = np.ravel(yp)\n",
    "xp = np.ravel(xp)\n",
    "\n",
    "# constant vertical coordinate of the simulated gravity data\n",
    "z_data = -150\n",
    "\n",
    "zp = np.zeros_like(yp) + z_data\n",
    "\n",
    "coordinates = np.vstack([xp, yp, zp])"
   ]
  },
  {
   "cell_type": "code",
   "execution_count": 4,
   "metadata": {},
   "outputs": [],
   "source": [
    "# Grid spacing\n",
    "dx = (area[1] - area[0])/(shape[0]-1)\n",
    "dy = (area[3] - area[2])/(shape[1]-1)"
   ]
  },
  {
   "cell_type": "code",
   "execution_count": 5,
   "metadata": {},
   "outputs": [
    {
     "name": "stdout",
     "output_type": "stream",
     "text": [
      "169.4915254237288 169.4915254237288\n"
     ]
    }
   ],
   "source": [
    "print(dx, dy)"
   ]
  },
  {
   "cell_type": "code",
   "execution_count": 7,
   "metadata": {},
   "outputs": [],
   "source": [
    "# constant vertical coordinate of the downward continuation plane\n",
    "z_downward = model[0][4] + 0.4*(model[0][5]-model[0][4])\n",
    "\n",
    "continuation_points = coordinates.copy()\n",
    "continuation_points[2] = z_downward"
   ]
  },
  {
   "cell_type": "markdown",
   "metadata": {},
   "source": [
    "### Synthetic gravity disturbance (in mGal)"
   ]
  },
  {
   "cell_type": "code",
   "execution_count": 8,
   "metadata": {},
   "outputs": [],
   "source": [
    "# Compute the vertical component of acceleration\n",
    "gz_true = rp.grav(coordinates=coordinates, prisms=model, density=density, field='g_z')\n",
    "\n",
    "gz_true += np.random.normal(scale=1., size=gz_true.size)"
   ]
  },
  {
   "cell_type": "code",
   "execution_count": null,
   "metadata": {},
   "outputs": [],
   "source": [
    "gz_upward_true = rp.grav(coordinates=continuation_points, prisms=model, density=density, field='g_z')"
   ]
  },
  {
   "cell_type": "markdown",
   "metadata": {},
   "source": [
    "### Estimated equivalent layer"
   ]
  },
  {
   "cell_type": "code",
   "execution_count": null,
   "metadata": {},
   "outputs": [],
   "source": [
    "# layer z\n",
    "z_layer = -150 + 2.5*(0.5*(dx+dy))"
   ]
  },
  {
   "cell_type": "code",
   "execution_count": null,
   "metadata": {},
   "outputs": [],
   "source": [
    "# kernel matrix associated with the equivalent layer\n",
    "G = eqlayer.kernel_matrix_monopoles(coordinates, z_layer, field=\"z\")"
   ]
  },
  {
   "cell_type": "code",
   "execution_count": null,
   "metadata": {},
   "outputs": [],
   "source": [
    "# estimated equivalent layer\n",
    "p_estimated = np.linalg.solve(G.T@G, G.T@gz_true)"
   ]
  },
  {
   "cell_type": "code",
   "execution_count": null,
   "metadata": {},
   "outputs": [],
   "source": [
    "# gravity disturbance predicted by the estimated equivalent layer\n",
    "gz_predicted = G@p_estimated"
   ]
  },
  {
   "cell_type": "markdown",
   "metadata": {},
   "source": [
    "### Upward continuation via equivalent-layer technique"
   ]
  },
  {
   "cell_type": "code",
   "execution_count": null,
   "metadata": {},
   "outputs": [],
   "source": [
    "# kernel matrix associated with upward continuation\n",
    "G = eqlayer.kernel_matrix_monopoles(continuation_points, z_layer, field=\"z\")"
   ]
  },
  {
   "cell_type": "code",
   "execution_count": null,
   "metadata": {},
   "outputs": [],
   "source": [
    "# upward continued field obtained via equivalent-layer technique\n",
    "gz_upward_predicted_eql = G@p_estimated"
   ]
  },
  {
   "cell_type": "markdown",
   "metadata": {},
   "source": [
    "### Upward continuation via Fourier transform"
   ]
  },
  {
   "cell_type": "code",
   "execution_count": null,
   "metadata": {},
   "outputs": [],
   "source": [
    "# compute 2D Fourier transform of gz_true with padding\n",
    "FT_gz_true = transforms.DFT(data=gz_true.reshape(shape), pad_mode='linear_ramp')\n",
    "\n",
    "# compute wavenumbers\n",
    "kx, ky, kz = transforms.wavenumbers(FT_gz_true.shape, dx, dy)"
   ]
  },
  {
   "cell_type": "code",
   "execution_count": null,
   "metadata": {},
   "outputs": [],
   "source": [
    "# define the continuation filter\n",
    "up_continuation_filter = [filters.continuation(kz=kz, dz=z_upward-z_data)]"
   ]
  },
  {
   "cell_type": "code",
   "execution_count": null,
   "metadata": {},
   "outputs": [],
   "source": [
    "# compute the upward continued field in Fourier domain\n",
    "FT_gz_upward_predicted_fourier = convolve.compute(FT_gz_true, up_continuation_filter)"
   ]
  },
  {
   "cell_type": "code",
   "execution_count": null,
   "metadata": {},
   "outputs": [],
   "source": [
    "# transform the upward continued field to space domain\n",
    "gz_upward_predicted_fourier = transforms.IDFT(FT_gz_upward_predicted_fourier, unpad=True, grid=False)"
   ]
  },
  {
   "cell_type": "markdown",
   "metadata": {},
   "source": [
    "### Plot the results"
   ]
  },
  {
   "cell_type": "code",
   "execution_count": null,
   "metadata": {},
   "outputs": [],
   "source": [
    "true_fields = [gz_true]\n",
    "computed_fields = [gz_predicted]\n",
    "\n",
    "bounds, diffs = plf.bounds_diffs(computed_fields, true_fields)\n",
    "\n",
    "fields = plf.fields_list(computed_fields, true_fields, diffs)\n",
    "\n",
    "titles = [\n",
    "    'gz predicted (mGal)', \n",
    "    'gz true (mGal)', \n",
    "    'difference (mGal)'\n",
    "]\n",
    "\n",
    "windows = [1, 2, 3]\n",
    "\n",
    "plt.figure(figsize=(15,10))\n",
    "\n",
    "for w, window in enumerate(windows):\n",
    "\n",
    "    plt.subplot(3,3,window)\n",
    "    plt.title(titles[w], fontsize=14)\n",
    "    plt.axis('scaled')\n",
    "    plt.contourf(\n",
    "        yp.reshape(shape)*0.001, \n",
    "        xp.reshape(shape)*0.001, \n",
    "        fields[w].reshape(shape), \n",
    "        cmap='RdBu_r',\n",
    "        vmin = -bounds[w], vmax = bounds[w]\n",
    "    )\n",
    "    plt.colorbar()\n",
    "    plf.model_boundaries(model, m2km=True)\n",
    "    plt.ylim(0.001*area[0], 0.001*area[1])\n",
    "    plt.xlim(0.001*area[2], 0.001*area[3])\n",
    "    plt.xlabel('y (km)', fontsize=12)\n",
    "    plt.ylabel('x (km)', fontsize=12)\n",
    "\n",
    "plt.tight_layout()\n",
    "\n",
    "plt.show()"
   ]
  },
  {
   "cell_type": "code",
   "execution_count": null,
   "metadata": {},
   "outputs": [],
   "source": [
    "true_fields = [gz_upward_true]\n",
    "computed_fields = [gz_upward_predicted_eql]\n",
    "\n",
    "bounds, diffs = plf.bounds_diffs(computed_fields, true_fields)\n",
    "\n",
    "fields = plf.fields_list(computed_fields, true_fields, diffs)\n",
    "\n",
    "titles = [\n",
    "    'gz upward predicted EQL (mGal)', \n",
    "    'gz upward true (mGal)', \n",
    "    'difference (mGal)'\n",
    "]\n",
    "\n",
    "windows = [1, 2, 3]\n",
    "\n",
    "plt.figure(figsize=(15,10))\n",
    "\n",
    "for w, window in enumerate(windows):\n",
    "\n",
    "    plt.subplot(3,3,window)\n",
    "    plt.title(titles[w], fontsize=14)\n",
    "    plt.axis('scaled')\n",
    "    plt.contourf(\n",
    "        yp.reshape(shape)*0.001, \n",
    "        xp.reshape(shape)*0.001, \n",
    "        fields[w].reshape(shape), \n",
    "        cmap='RdBu_r',\n",
    "        vmin = -bounds[w], vmax = bounds[w]\n",
    "    )\n",
    "    plt.colorbar()\n",
    "    plf.model_boundaries(model, m2km=True)\n",
    "    plt.ylim(0.001*area[0], 0.001*area[1])\n",
    "    plt.xlim(0.001*area[2], 0.001*area[3])\n",
    "    plt.xlabel('y (km)', fontsize=12)\n",
    "    plt.ylabel('x (km)', fontsize=12)\n",
    "\n",
    "plt.tight_layout()\n",
    "\n",
    "plt.show()"
   ]
  },
  {
   "cell_type": "code",
   "execution_count": null,
   "metadata": {},
   "outputs": [],
   "source": [
    "true_fields = [gz_upward_true]\n",
    "computed_fields = [gz_upward_predicted_fourier]\n",
    "\n",
    "bounds, diffs = plf.bounds_diffs(computed_fields, true_fields)\n",
    "\n",
    "fields = plf.fields_list(computed_fields, true_fields, diffs)\n",
    "\n",
    "titles = [\n",
    "    'gz upward predicted FT (mGal)', \n",
    "    'gz upward true (mGal)', \n",
    "    'difference (mGal)'\n",
    "]\n",
    "\n",
    "windows = [1, 2, 3]\n",
    "\n",
    "plt.figure(figsize=(15,10))\n",
    "\n",
    "for w, window in enumerate(windows):\n",
    "\n",
    "    plt.subplot(3,3,window)\n",
    "    plt.title(titles[w], fontsize=14)\n",
    "    plt.axis('scaled')\n",
    "    plt.contourf(\n",
    "        yp.reshape(shape)*0.001, \n",
    "        xp.reshape(shape)*0.001, \n",
    "        fields[w].reshape(shape), \n",
    "        cmap='RdBu_r',\n",
    "        vmin = -bounds[w], vmax = bounds[w]\n",
    "    )\n",
    "    plt.colorbar()\n",
    "    plf.model_boundaries(model, m2km=True)\n",
    "    plt.ylim(0.001*area[0], 0.001*area[1])\n",
    "    plt.xlim(0.001*area[2], 0.001*area[3])\n",
    "    plt.xlabel('y (km)', fontsize=12)\n",
    "    plt.ylabel('x (km)', fontsize=12)\n",
    "\n",
    "plt.tight_layout()\n",
    "\n",
    "plt.show()"
   ]
  },
  {
   "cell_type": "code",
   "execution_count": null,
   "metadata": {},
   "outputs": [],
   "source": []
  }
 ],
 "metadata": {
  "kernelspec": {
   "display_name": "Python 3 (ipykernel)",
   "language": "python",
   "name": "python3"
  },
  "language_info": {
   "codemirror_mode": {
    "name": "ipython",
    "version": 3
   },
   "file_extension": ".py",
   "mimetype": "text/x-python",
   "name": "python",
   "nbconvert_exporter": "python",
   "pygments_lexer": "ipython3",
   "version": "3.9.7"
  }
 },
 "nbformat": 4,
 "nbformat_minor": 1
}
