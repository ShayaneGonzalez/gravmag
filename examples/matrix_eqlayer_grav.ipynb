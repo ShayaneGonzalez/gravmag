{
 "cells": [
  {
   "cell_type": "markdown",
   "metadata": {},
   "source": [
    "# Sensibility matrix of eq. layers for gravitational field"
   ]
  },
  {
   "cell_type": "markdown",
   "metadata": {},
   "source": [
    "This code illustrates the sensibilty matrix associated with the equivalent layer for gravitational field."
   ]
  },
  {
   "cell_type": "markdown",
   "metadata": {},
   "source": [
    "### Things we have to import"
   ]
  },
  {
   "cell_type": "code",
   "execution_count": 1,
   "metadata": {},
   "outputs": [],
   "source": [
    "import numpy as np\n",
    "import matplotlib.pyplot as plt\n",
    "from gravmag import eqlayer, filters, transforms, convolve\n",
    "from gravmag.models import rectangular_prism as rp\n",
    "from gravmag import plot_functions as plf\n",
    "from gravmag import constants as cts"
   ]
  },
  {
   "cell_type": "markdown",
   "metadata": {},
   "source": [
    "### Points were we compute the synthetic data"
   ]
  },
  {
   "cell_type": "code",
   "execution_count": 2,
   "metadata": {},
   "outputs": [],
   "source": [
    "# number of points along x and y\n",
    "shape = (4, 3)\n",
    "\n",
    "# minimum x, maximum x, minimum y and maximum y\n",
    "area = [-5, 5, -4, 6]\n",
    "\n",
    "# coordinates \n",
    "xp = np.linspace(area[0], area[1], shape[0])\n",
    "yp = np.linspace(area[2], area[3], shape[1])\n",
    "yp, xp = np.meshgrid(yp, xp)\n",
    "\n",
    "yp = np.ravel(yp)\n",
    "xp = np.ravel(xp)\n",
    "\n",
    "# constant vertical coordinate of the simulated gravity data\n",
    "z_data = 0\n",
    "\n",
    "zp = np.zeros_like(yp) + z_data\n",
    "\n",
    "coordinates = np.vstack([xp, yp, zp])"
   ]
  },
  {
   "cell_type": "code",
   "execution_count": 3,
   "metadata": {},
   "outputs": [],
   "source": [
    "# Grid spacing\n",
    "dx = (area[1] - area[0])/(shape[0]-1)\n",
    "dy = (area[3] - area[2])/(shape[1]-1)"
   ]
  },
  {
   "cell_type": "code",
   "execution_count": 4,
   "metadata": {},
   "outputs": [
    {
     "name": "stdout",
     "output_type": "stream",
     "text": [
      "3.3333333333333335 5.0\n"
     ]
    }
   ],
   "source": [
    "print(dx, dy)"
   ]
  },
  {
   "cell_type": "markdown",
   "metadata": {},
   "source": [
    "### Equivalent layer"
   ]
  },
  {
   "cell_type": "code",
   "execution_count": 5,
   "metadata": {},
   "outputs": [],
   "source": [
    "# gravitational field components\n",
    "field_names = ['x', 'y', 'z', 'xx', 'xy', 'xz', 'yy', 'yz', 'zz']"
   ]
  },
  {
   "cell_type": "code",
   "execution_count": 6,
   "metadata": {},
   "outputs": [],
   "source": [
    "Q = shape[0] # number of blocks along rows/columns\n",
    "P = shape[1] # number of rows/columns in each block"
   ]
  },
  {
   "cell_type": "code",
   "execution_count": 26,
   "metadata": {},
   "outputs": [],
   "source": [
    "# layer z\n",
    "#z_layer = -150 + 2.5*(0.5*(dx+dy))\n",
    "#z_layer = 2.5*(0.5*(dx+dy))\n",
    "z_layer = 5"
   ]
  },
  {
   "cell_type": "code",
   "execution_count": 27,
   "metadata": {},
   "outputs": [],
   "source": [
    "# list for storing the matrices associated with each potential field\n",
    "matrices = []\n",
    "\n",
    "for name in field_names:\n",
    "    # kernel matrix associated with the equivalent layer\n",
    "    matrix = eqlayer.kernel_matrix_monopoles(coordinates, z_layer, field=name)\n",
    "    matrices.append(matrix/np.max(matrix))"
   ]
  },
  {
   "cell_type": "markdown",
   "metadata": {},
   "source": [
    "### Plot the results"
   ]
  },
  {
   "cell_type": "code",
   "execution_count": 28,
   "metadata": {},
   "outputs": [
    {
     "data": {
      "image/png": "[encoded data removed]",
      "text/plain": [
       "<Figure size 1080x1080 with 9 Axes>"
      ]
     },
     "metadata": {
      "needs_background": "light"
     },
     "output_type": "display_data"
    }
   ],
   "source": [
    "windows = [1, 2, 3, 4, 5, 6, 8, 9, 12]\n",
    "\n",
    "#fig, ax = plt.subplots(nrows=4, ncols=3, figsize=(15,15))\n",
    "plt.figure(figsize=(15,15))\n",
    "\n",
    "for w, window in enumerate(windows):\n",
    "    \n",
    "    bound = np.max(np.abs(matrices[w]))\n",
    "    \n",
    "    plt.subplot(4, 3, window)\n",
    "    plt.title(field_names[w], fontsize=18)\n",
    "    plt.matshow(\n",
    "        matrices[w], fignum=False, cmap='seismic',\n",
    "        vmin = -bound, vmax = bound\n",
    "    )\n",
    "    #plt.colorbar()\n",
    "    plt.xticks(ticks=np.arange(Q)*P - 0.5, labels=[])\n",
    "    plt.yticks(ticks=np.arange(Q)*P - 0.5, labels=[])\n",
    "    plt.grid(color='k', linewidth=2)"
   ]
  },
  {
   "cell_type": "code",
   "execution_count": null,
   "metadata": {},
   "outputs": [],
   "source": []
  }
 ],
 "metadata": {
  "kernelspec": {
   "display_name": "Python 3 (ipykernel)",
   "language": "python",
   "name": "python3"
  },
  "language_info": {
   "codemirror_mode": {
    "name": "ipython",
    "version": 3
   },
   "file_extension": ".py",
   "mimetype": "text/x-python",
   "name": "python",
   "nbconvert_exporter": "python",
   "pygments_lexer": "ipython3",
   "version": "3.9.7"
  }
 },
 "nbformat": 4,
 "nbformat_minor": 1
}
