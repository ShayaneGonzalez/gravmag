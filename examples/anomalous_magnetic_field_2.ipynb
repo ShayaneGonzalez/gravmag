{
 "cells": [
  {
   "cell_type": "markdown",
   "metadata": {},
   "source": [
    "# Compute the amplitude of B from total-field anomaly data"
   ]
  },
  {
   "cell_type": "markdown",
   "metadata": {},
   "source": [
    "This code illustrates how to compute the amplitude of the anomalous magnetic field (B) from total-field anomalies."
   ]
  },
  {
   "cell_type": "markdown",
   "metadata": {},
   "source": [
    "### Things we have to import"
   ]
  },
  {
   "cell_type": "code",
   "execution_count": 1,
   "metadata": {},
   "outputs": [],
   "source": [
    "import numpy as np\n",
    "import matplotlib.pyplot as plt"
   ]
  },
  {
   "cell_type": "code",
   "execution_count": 2,
   "metadata": {},
   "outputs": [],
   "source": [
    "from gravmag import plot_functions as plf"
   ]
  },
  {
   "cell_type": "code",
   "execution_count": 3,
   "metadata": {},
   "outputs": [],
   "source": [
    "from gravmag import filters, convolve, transforms, eqlayer"
   ]
  },
  {
   "cell_type": "code",
   "execution_count": 4,
   "metadata": {},
   "outputs": [],
   "source": [
    "from gravmag.models import point_source as ps"
   ]
  },
  {
   "cell_type": "markdown",
   "metadata": {},
   "source": [
    "### Model"
   ]
  },
  {
   "cell_type": "code",
   "execution_count": 5,
   "metadata": {},
   "outputs": [],
   "source": [
    "# Create a model formed by a single dipole\n",
    "# Each line contains the x (north-south), y (east-west) and z (positive downwards)\n",
    "# coordinates of a single dipole forming the model\n",
    "model = np.array([[300, 200, 100]])\n",
    "\n",
    "# dipole moment\n",
    "# first, second and third columns contain\n",
    "# the moment intensity (in A m²), inclination \n",
    "# and declination (in degrees)\n",
    "inc, dec = 45, 10\n",
    "moment = np.array([[1e9, inc, dec]])\n",
    "\n",
    "# Components of the unit vector defining the\n",
    "# total-magnetization direction\n",
    "cos_inc = np.cos(np.deg2rad(inc))\n",
    "sin_inc = np.sin(np.deg2rad(inc))\n",
    "cos_dec = np.cos(np.deg2rad(dec))\n",
    "sin_dec = np.sin(np.deg2rad(dec))\n",
    "hx_hat = cos_inc*cos_dec\n",
    "hy_hat = cos_inc*sin_dec\n",
    "hz_hat = sin_inc"
   ]
  },
  {
   "cell_type": "markdown",
   "metadata": {},
   "source": [
    "### Points were we compute the synthetic data"
   ]
  },
  {
   "cell_type": "code",
   "execution_count": 6,
   "metadata": {},
   "outputs": [],
   "source": [
    "# number of points along x and y\n",
    "shape = (60, 60)\n",
    "\n",
    "# minimum x, maximum x, minimum y and maximum y\n",
    "area = [-1000, 1000, -1000, 1000]\n",
    "\n",
    "# Grid spacing\n",
    "dx = (area[1] - area[0])/(shape[0]-1)\n",
    "dy = (area[3] - area[2])/(shape[1]-1)\n",
    "\n",
    "# coordinates \n",
    "xp = np.linspace(area[0], area[1], shape[0])\n",
    "yp = np.linspace(area[2], area[3], shape[1])\n",
    "yp, xp = np.meshgrid(yp, xp)\n",
    "yp = np.ravel(yp)\n",
    "xp = np.ravel(xp)\n",
    "zp = np.zeros_like(yp) - 200\n",
    "\n",
    "coordinates = np.vstack([xp, yp, zp])"
   ]
  },
  {
   "cell_type": "code",
   "execution_count": 7,
   "metadata": {},
   "outputs": [
    {
     "name": "stdout",
     "output_type": "stream",
     "text": [
      "33.898305084745765 33.898305084745765\n"
     ]
    }
   ],
   "source": [
    "print(dx, dy)"
   ]
  },
  {
   "cell_type": "markdown",
   "metadata": {},
   "source": [
    "### Main field"
   ]
  },
  {
   "cell_type": "code",
   "execution_count": 8,
   "metadata": {},
   "outputs": [],
   "source": [
    "# inclination (degrees)\n",
    "I0 = 45\n",
    "\n",
    "# declination (degrees)\n",
    "D0 = 10\n",
    "\n",
    "# Cartesian components of the main field\n",
    "cosI0 = np.cos(np.deg2rad(I0))\n",
    "sinI0 = np.sin(np.deg2rad(I0))\n",
    "cosD0 = np.cos(np.deg2rad(D0))\n",
    "sinD0 = np.sin(np.deg2rad(D0))\n",
    "Fx_hat = cosI0*cosD0\n",
    "Fy_hat = cosI0*sinD0\n",
    "Fz_hat = sinI0"
   ]
  },
  {
   "cell_type": "markdown",
   "metadata": {},
   "source": [
    "### Synthetic data"
   ]
  },
  {
   "cell_type": "code",
   "execution_count": 9,
   "metadata": {},
   "outputs": [],
   "source": [
    "bx = ps.mag(coordinates, model, moment, field='x')\n",
    "by = ps.mag(coordinates, model, moment, field='y')\n",
    "bz = ps.mag(coordinates, model, moment, field='z')\n",
    "\n",
    "# Add a noise to the synthetic data\n",
    "# The noise has a normal distribution, zero mean and standard eviation equal to 5 nT\n",
    "# bx += np.random.normal(loc=0, scale=5, size=bx.size)\n",
    "# by += np.random.normal(loc=0, scale=5, size=by.size)\n",
    "# bz += np.random.normal(loc=0, scale=5, size=bz.size)"
   ]
  },
  {
   "cell_type": "code",
   "execution_count": 10,
   "metadata": {},
   "outputs": [],
   "source": [
    "# Compute the approximated total-field anomaly\n",
    "tfa = Fx_hat*bx + Fy_hat*by + Fz_hat*bz"
   ]
  },
  {
   "cell_type": "code",
   "execution_count": 11,
   "metadata": {},
   "outputs": [],
   "source": [
    "# Compute the \"true\" amplitude of B\n",
    "amplitude_B = np.sqrt(bx**2 + by**2 + bz**2)"
   ]
  },
  {
   "cell_type": "markdown",
   "metadata": {},
   "source": [
    "### Plot the total-field and true amplitude of B"
   ]
  },
  {
   "cell_type": "code",
   "execution_count": 12,
   "metadata": {},
   "outputs": [
    {
     "data": {
      "image/png": "[encoded data removed]",
      "text/plain": [
       "<Figure size 864x360 with 4 Axes>"
      ]
     },
     "metadata": {
      "needs_background": "light"
     },
     "output_type": "display_data"
    }
   ],
   "source": [
    "fields = [tfa, amplitude_B]\n",
    "windows = [1, 2]\n",
    "titles = ['TFA (nT)', 'Amplitude B (nT)']\n",
    "\n",
    "plt.figure(figsize=(12,5))\n",
    "\n",
    "for w, window in enumerate(windows):\n",
    "\n",
    "    plt.subplot(1,2,window)\n",
    "    plt.title(titles[w], fontsize=14)\n",
    "    plt.axis('scaled')\n",
    "    plt.contourf(yp.reshape(shape)*0.001, \n",
    "                 xp.reshape(shape)*0.001, \n",
    "                 fields[w].reshape(shape), cmap='RdBu_r')\n",
    "    plt.colorbar()\n",
    "    plt.plot(0.001*model[:,1], 0.001*model[:,0], 'ko', ms=10)\n",
    "    plt.ylim(0.001*area[0], 0.001*area[1])\n",
    "    plt.xlim(0.001*area[2], 0.001*area[3])\n",
    "    plt.xlabel('y (km)', fontsize=12)\n",
    "    plt.ylabel('x (km)', fontsize=12)\n",
    "\n",
    "plt.tight_layout()\n",
    "\n",
    "plt.show()"
   ]
  },
  {
   "cell_type": "markdown",
   "metadata": {},
   "source": [
    "### Estimate the amplitude of B via FFT"
   ]
  },
  {
   "cell_type": "code",
   "execution_count": 13,
   "metadata": {},
   "outputs": [],
   "source": [
    "# 2D Fourier transform of the TFA\n",
    "F_tfa = transforms.DFT(data=tfa.reshape(shape), pad_mode='linear_ramp')\n",
    "\n",
    "# compute the wavenumbers\n",
    "kx, ky, kz = transforms.wavenumbers(F_tfa.shape, dx, dy)\n",
    "\n",
    "# compute the filter defining the constant main field direction in Fourier domain\n",
    "main_field_filter = filters.direction(kx, ky, kz, I0, D0)\n",
    "\n",
    "# main_field_filter[0,0] is zero and it causes a division-by-zero problem. \n",
    "# Because of that, we set main_field_filter[0,0] equal to 1\n",
    "main_field_filter[0, 0] = 1.0\n",
    "\n",
    "# compute the bx, by and bz components in Fourier \n",
    "FT_bx_tfa_fourier = convolve.compute(\n",
    "    FT_data=F_tfa, \n",
    "    filters=[1./main_field_filter, 1j*kx]\n",
    ")\n",
    "FT_by_tfa_fourier = convolve.compute(\n",
    "    FT_data=F_tfa, \n",
    "    filters=[1./main_field_filter, 1j*ky]\n",
    ")\n",
    "FT_bz_tfa_fourier = convolve.compute(\n",
    "    FT_data=F_tfa, \n",
    "    filters=[1./main_field_filter, kz]\n",
    ")\n",
    "\n",
    "# 2D Inverse Fourier transform of the field components\n",
    "bx_tfa_fourier = transforms.IDFT(FT_data=FT_bx_tfa_fourier, unpad=True, grid=False)\n",
    "by_tfa_fourier = transforms.IDFT(FT_data=FT_by_tfa_fourier, unpad=True, grid=False)\n",
    "bz_tfa_fourier = transforms.IDFT(FT_data=FT_bz_tfa_fourier, unpad=True, grid=False)"
   ]
  },
  {
   "cell_type": "code",
   "execution_count": 14,
   "metadata": {},
   "outputs": [],
   "source": [
    "# amplitude of B computed via FFT\n",
    "amplitude_B_fourier = np.sqrt(bx_tfa_fourier**2 + by_tfa_fourier**2 + bz_tfa_fourier**2)"
   ]
  },
  {
   "cell_type": "markdown",
   "metadata": {},
   "source": [
    "### Estimate the amplitude of B via equivalent-layer technique"
   ]
  },
  {
   "cell_type": "code",
   "execution_count": 15,
   "metadata": {},
   "outputs": [
    {
     "name": "stdout",
     "output_type": "stream",
     "text": [
      "-115.25423728813558\n"
     ]
    }
   ],
   "source": [
    "# layer z\n",
    "z_layer = np.max(zp) + 2.5*(0.5*(dx+dy))\n",
    "print(z_layer)"
   ]
  },
  {
   "cell_type": "code",
   "execution_count": 16,
   "metadata": {},
   "outputs": [],
   "source": [
    "# kernel matrix associated with the equivalent layer\n",
    "G = eqlayer.kernel_matrix_dipoles(\n",
    "    coordinates, z_layer, inc, dec, field=\"t\", inct=I0, dect=D0\n",
    ")"
   ]
  },
  {
   "cell_type": "code",
   "execution_count": 17,
   "metadata": {},
   "outputs": [],
   "source": [
    "# regularization paramater\n",
    "u0 = 1e-3*np.trace(G.T@G)/G.shape[1]"
   ]
  },
  {
   "cell_type": "code",
   "execution_count": 18,
   "metadata": {},
   "outputs": [],
   "source": [
    "# estimated equivalent layer\n",
    "p_estimated = np.linalg.solve(G.T@G + u0*np.identity(G.shape[1]), G.T@tfa)"
   ]
  },
  {
   "cell_type": "code",
   "execution_count": 19,
   "metadata": {},
   "outputs": [],
   "source": [
    "# total-field anomaly predicted by the estimated equivalent layer\n",
    "tfa_eql = G@p_estimated"
   ]
  },
  {
   "cell_type": "code",
   "execution_count": 20,
   "metadata": {},
   "outputs": [],
   "source": [
    "# kernel matrix associated with the Bx\n",
    "G = eqlayer.kernel_matrix_dipoles(\n",
    "    coordinates, z_layer, inc, dec, field=\"x\"\n",
    ")\n",
    "\n",
    "bx_tfa_eql = G@p_estimated\n",
    "\n",
    "# kernel matrix associated with the By\n",
    "G = eqlayer.kernel_matrix_dipoles(\n",
    "    coordinates, z_layer, inc, dec, field=\"y\"\n",
    ")\n",
    "\n",
    "by_tfa_eql = G@p_estimated\n",
    "\n",
    "# kernel matrix associated with the Bz\n",
    "G = eqlayer.kernel_matrix_dipoles(\n",
    "    coordinates, z_layer, inc, dec, field=\"z\"\n",
    ")\n",
    "\n",
    "bz_tfa_eql = G@p_estimated"
   ]
  },
  {
   "cell_type": "code",
   "execution_count": 21,
   "metadata": {},
   "outputs": [],
   "source": [
    "# amplitude of B computed via equivalent layer\n",
    "amplitude_B_eql = np.sqrt(bx_tfa_eql**2 + by_tfa_eql**2 + bz_tfa_eql**2)"
   ]
  },
  {
   "cell_type": "markdown",
   "metadata": {},
   "source": [
    "### Plot the results"
   ]
  },
  {
   "cell_type": "code",
   "execution_count": 22,
   "metadata": {},
   "outputs": [
    {
     "data": {
      "image/png": "[encoded data removed]",
      "text/plain": [
       "<Figure size 1080x288 with 6 Axes>"
      ]
     },
     "metadata": {
      "needs_background": "light"
     },
     "output_type": "display_data"
    }
   ],
   "source": [
    "field_names = ['TFA']\n",
    "field_units =['nT']\n",
    "\n",
    "true_fields = [tfa]\n",
    "\n",
    "predicted_fields = [tfa_eql]\n",
    "\n",
    "bounds, diffs = plf.bounds_diffs(predicted_fields, true_fields)\n",
    "\n",
    "fields = plf.fields_list(predicted_fields, true_fields, diffs)\n",
    "\n",
    "titles = []\n",
    "for name, unit in zip(field_names, field_units):\n",
    "    titles.append('eql {} ({})'.format(name,unit))\n",
    "    titles.append('true {} ({})'.format(name,unit))\n",
    "    titles.append('difference ({})'.format(unit))\n",
    "\n",
    "windows = [i for i in range(1,4)]\n",
    "\n",
    "plt.figure(figsize=(15,4))\n",
    "\n",
    "for w, window in enumerate(windows):\n",
    "\n",
    "    plt.subplot(1,3,window)\n",
    "    plt.title(titles[w], fontsize=14)\n",
    "    plt.axis('scaled')\n",
    "    plt.contourf(\n",
    "        yp.reshape(shape)*0.001, \n",
    "        xp.reshape(shape)*0.001, \n",
    "        fields[w].reshape(shape), \n",
    "        cmap='RdBu_r',\n",
    "        vmin = -bounds[w], vmax = bounds[w]\n",
    "    )\n",
    "    plt.colorbar()\n",
    "    plt.plot(0.001*model[:,1], 0.001*model[:,0], 'ko', ms=10)\n",
    "    plt.ylim(0.001*area[0], 0.001*area[1])\n",
    "    plt.xlim(0.001*area[2], 0.001*area[3])\n",
    "    plt.xlabel('y (km)', fontsize=12)\n",
    "    plt.ylabel('x (km)', fontsize=12)\n",
    "\n",
    "plt.tight_layout()\n",
    "\n",
    "plt.show()"
   ]
  },
  {
   "cell_type": "code",
   "execution_count": 23,
   "metadata": {},
   "outputs": [
    {
     "data": {
      "image/png": "[encoded data removed]",
      "text/plain": [
       "<Figure size 1080x288 with 6 Axes>"
      ]
     },
     "metadata": {
      "needs_background": "light"
     },
     "output_type": "display_data"
    }
   ],
   "source": [
    "field_names = ['Amplitude of B']\n",
    "field_units =['nT']\n",
    "\n",
    "true_fields = [amplitude_B]\n",
    "\n",
    "predicted_fields = [amplitude_B_eql]\n",
    "\n",
    "bounds, diffs = plf.bounds_diffs(predicted_fields, true_fields)\n",
    "\n",
    "fields = plf.fields_list(predicted_fields, true_fields, diffs)\n",
    "\n",
    "titles = []\n",
    "for name, unit in zip(field_names, field_units):\n",
    "    titles.append('eql {} ({})'.format(name,unit))\n",
    "    titles.append('true {} ({})'.format(name,unit))\n",
    "    titles.append('difference ({})'.format(unit))\n",
    "\n",
    "windows = [i for i in range(1,4)]\n",
    "\n",
    "plt.figure(figsize=(15,4))\n",
    "\n",
    "for w, window in enumerate(windows):\n",
    "\n",
    "    plt.subplot(1,3,window)\n",
    "    plt.title(titles[w], fontsize=14)\n",
    "    plt.axis('scaled')\n",
    "    plt.contourf(\n",
    "        yp.reshape(shape)*0.001, \n",
    "        xp.reshape(shape)*0.001, \n",
    "        fields[w].reshape(shape), \n",
    "        cmap='RdBu_r',\n",
    "        vmin = -bounds[w], vmax = bounds[w]\n",
    "    )\n",
    "    plt.colorbar()\n",
    "    plt.plot(0.001*model[:,1], 0.001*model[:,0], 'ko', ms=10)\n",
    "    plt.ylim(0.001*area[0], 0.001*area[1])\n",
    "    plt.xlim(0.001*area[2], 0.001*area[3])\n",
    "    plt.xlabel('y (km)', fontsize=12)\n",
    "    plt.ylabel('x (km)', fontsize=12)\n",
    "\n",
    "plt.tight_layout()\n",
    "\n",
    "plt.show()"
   ]
  },
  {
   "cell_type": "code",
   "execution_count": 24,
   "metadata": {},
   "outputs": [
    {
     "data": {
      "image/png": "[encoded data removed]",
      "text/plain": [
       "<Figure size 1080x288 with 6 Axes>"
      ]
     },
     "metadata": {
      "needs_background": "light"
     },
     "output_type": "display_data"
    }
   ],
   "source": [
    "field_names = ['Amplitude of B']\n",
    "field_units =['nT']\n",
    "\n",
    "true_fields = [amplitude_B]\n",
    "\n",
    "predicted_fields = [amplitude_B_fourier]\n",
    "\n",
    "bounds, diffs = plf.bounds_diffs(predicted_fields, true_fields)\n",
    "\n",
    "fields = plf.fields_list(predicted_fields, true_fields, diffs)\n",
    "\n",
    "titles = []\n",
    "for name, unit in zip(field_names, field_units):\n",
    "    titles.append('Fourier {} ({})'.format(name,unit))\n",
    "    titles.append('true {} ({})'.format(name,unit))\n",
    "    titles.append('difference ({})'.format(unit))\n",
    "\n",
    "windows = [i for i in range(1,4)]\n",
    "\n",
    "plt.figure(figsize=(15,4))\n",
    "\n",
    "for w, window in enumerate(windows):\n",
    "\n",
    "    plt.subplot(1,3,window)\n",
    "    plt.title(titles[w], fontsize=14)\n",
    "    plt.axis('scaled')\n",
    "    plt.contourf(\n",
    "        yp.reshape(shape)*0.001, \n",
    "        xp.reshape(shape)*0.001, \n",
    "        fields[w].reshape(shape), \n",
    "        cmap='RdBu_r',\n",
    "        vmin = -bounds[w], vmax = bounds[w]\n",
    "    )\n",
    "    plt.colorbar()\n",
    "    plt.plot(0.001*model[:,1], 0.001*model[:,0], 'ko', ms=10)\n",
    "    plt.ylim(0.001*area[0], 0.001*area[1])\n",
    "    plt.xlim(0.001*area[2], 0.001*area[3])\n",
    "    plt.xlabel('y (km)', fontsize=12)\n",
    "    plt.ylabel('x (km)', fontsize=12)\n",
    "\n",
    "plt.tight_layout()\n",
    "\n",
    "plt.show()"
   ]
  },
  {
   "cell_type": "code",
   "execution_count": null,
   "metadata": {},
   "outputs": [],
   "source": []
  }
 ],
 "metadata": {
  "kernelspec": {
   "display_name": "Python 3 (ipykernel)",
   "language": "python",
   "name": "python3"
  },
  "language_info": {
   "codemirror_mode": {
    "name": "ipython",
    "version": 3
   },
   "file_extension": ".py",
   "mimetype": "text/x-python",
   "name": "python",
   "nbconvert_exporter": "python",
   "pygments_lexer": "ipython3",
   "version": "3.7.7"
  }
 },
 "nbformat": 4,
 "nbformat_minor": 1
}
