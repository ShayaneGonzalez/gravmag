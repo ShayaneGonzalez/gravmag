{
 "cells": [
  {
   "cell_type": "markdown",
   "metadata": {},
   "source": [
    "# Gravity disturbance produced by a prism"
   ]
  },
  {
   "cell_type": "markdown",
   "metadata": {},
   "source": [
    "The difference between the observed gravity (corrected from non-gravitational effects due to the vehicle motion) and the normal gravity, at the same point, is called *gravity disturbance* and is a very-well established quantity in geodesy (Hofmann-Wellenhof and Moritz, 2005). Several authors have discussed the differences between *gravity anomaly* and *gravity disturbance*, as well as proposed that the second is more appropriated for geophysical applications (e.g., Li and Götze, 2001; Fairhead et al., 2003; Hackney and Featherstone, 2003; Hinze et al., 2005; Vajda et al., 2006, 2007, 2008). The *gravity disturbance* approximates the gravitational field produced by contrasts between the actual internal density distribution of the Earth and the unknown internal density distribution of the normal Earth. In applied geophysics, these density differences are generally called *anomalous masses* (e.g., Hammer, 1945; LaFehr, 1965) or *gravity sources* (e.g., Blakely, 1996).\n",
    "\n",
    "This code illustrates how to compute the *gravity disturbance* produced by a homogeneous rectangular prism at points free of mass. We presume that the *gravity disturbance* can be approximated by the vertical component of the gravitational attraction produced by the prism.\n",
    "\n",
    "**Note:** Find all cited references at [`references.md`](https://github.com/birocoles/gravmag/blob/main/references.md)."
   ]
  },
  {
   "cell_type": "markdown",
   "metadata": {},
   "source": [
    "### Things we have to import"
   ]
  },
  {
   "cell_type": "code",
   "execution_count": 1,
   "metadata": {},
   "outputs": [],
   "source": [
    "import pyvista as pv"
   ]
  },
  {
   "cell_type": "code",
   "execution_count": 2,
   "metadata": {},
   "outputs": [
    {
     "name": "stderr",
     "output_type": "stream",
     "text": [
      "/home/vanderlei/anaconda3/lib/python3.9/site-packages/scipy/__init__.py:146: UserWarning: A NumPy version >=1.16.5 and <1.23.0 is required for this version of SciPy (detected version 1.23.5\n",
      "  warnings.warn(f\"A NumPy version >={np_minversion} and <{np_maxversion}\"\n"
     ]
    }
   ],
   "source": [
    "import numpy as np\n",
    "import matplotlib.pyplot as plt\n",
    "\n",
    "from gravmag.models import rectangular_prism as rp\n",
    "from gravmag import plot_functions as plf"
   ]
  },
  {
   "cell_type": "markdown",
   "metadata": {},
   "source": [
    "### Model"
   ]
  },
  {
   "cell_type": "code",
   "execution_count": 3,
   "metadata": {},
   "outputs": [],
   "source": [
    "# Create a model formed by a single prism\n",
    "model = np.array([[-500, 500, 0, 2000, 10, 1010],\n",
    "                  [-1500, -500, 1000, 3000, 100, 1200],\n",
    "                  [2000, 3000, 2000, 2500, 90, 1500]])\n",
    "\n",
    "density = np.array([1500, 1800, 3000]) # 2000 kg/m³ = 2 g/cm³"
   ]
  },
  {
   "cell_type": "markdown",
   "metadata": {},
   "source": [
    "### Points were we compute the synthetic data"
   ]
  },
  {
   "cell_type": "code",
   "execution_count": 4,
   "metadata": {},
   "outputs": [],
   "source": [
    "# number of points along x and y\n",
    "shape = (100, 100)\n",
    "\n",
    "# minimum x, maximum x, minimum y and maximum y\n",
    "area = [-5000, 5000, -4000, 6000]\n",
    "\n",
    "# coordinates \n",
    "xp = np.linspace(area[0], area[1], shape[0])\n",
    "yp = np.linspace(area[2], area[3], shape[1])\n",
    "yp, xp = np.meshgrid(yp, xp)\n",
    "\n",
    "yp = np.ravel(yp)\n",
    "xp = np.ravel(xp)\n",
    "zp = np.zeros_like(yp) - 150\n",
    "\n",
    "coordinates = np.vstack([xp, yp, zp])"
   ]
  },
  {
   "cell_type": "markdown",
   "metadata": {},
   "source": [
    "### Synthetic gravity disturbance (in mGal)"
   ]
  },
  {
   "cell_type": "code",
   "execution_count": 5,
   "metadata": {},
   "outputs": [],
   "source": [
    "# Compute the vertical component of acceleration\n",
    "gz = rp.grav(coordinates=coordinates, prisms=model, density=density, field='z')"
   ]
  },
  {
   "cell_type": "markdown",
   "metadata": {},
   "source": [
    "### Plot the computed gravity disturbance with Matplotlib"
   ]
  },
  {
   "cell_type": "code",
   "execution_count": 6,
   "metadata": {},
   "outputs": [
    {
     "data": {
      "image/png": "[encoded data removed]",
      "text/plain": [
       "<Figure size 600x500 with 2 Axes>"
      ]
     },
     "metadata": {},
     "output_type": "display_data"
    }
   ],
   "source": [
    "plt.figure(figsize=(6,5))\n",
    "\n",
    "plt.title(\"Gravity disturbance (mGal)\")\n",
    "plt.axis('scaled')\n",
    "plt.contourf(yp.reshape(shape)*0.001, \n",
    "             xp.reshape(shape)*0.001, \n",
    "             gz.reshape(shape), cmap='Reds')\n",
    "plt.colorbar()\n",
    "plf.model_boundaries(model)\n",
    "plt.ylim(0.001*area[0], 0.001*area[1])\n",
    "plt.xlim(0.001*area[2], 0.001*area[3])\n",
    "plt.xlabel('y (km)', fontsize=14)\n",
    "plt.ylabel('x (km)', fontsize=14)\n",
    "plt.grid()\n",
    "plt.tight_layout()\n",
    "\n",
    "plt.show()"
   ]
  },
  {
   "cell_type": "markdown",
   "metadata": {},
   "source": [
    "### Plot the computed gravity disturbance and the model with PyVista"
   ]
  },
  {
   "cell_type": "code",
   "execution_count": 7,
   "metadata": {},
   "outputs": [],
   "source": [
    "data_mesh = pv.PolyData(coordinates.T)\n",
    "data_mesh.point_data['gz'] = gz"
   ]
  },
  {
   "cell_type": "code",
   "execution_count": 8,
   "metadata": {},
   "outputs": [],
   "source": [
    "def prisms_pyvista(prisms, prop):\n",
    "    # https://docs.pyvista.org/examples/00-load/create-unstructured-surface.html\n",
    "    nprisms = prisms.shape[0]\n",
    "    \n",
    "    # define indices\n",
    "    cells = np.empty((nprisms, 9), dtype=int)\n",
    "    cells[:,0] = 8\n",
    "    cells[:,1:] = np.reshape(np.arange(8*nprisms), (nprisms, 8))\n",
    "    cells = cells.ravel()\n",
    "    \n",
    "    # define types\n",
    "    cell_type = np.tile(np.array([pv.CellType.HEXAHEDRON]), nprisms)\n",
    "    \n",
    "    # define the cells forming the model mesh\n",
    "    points = []\n",
    "    for prism in prisms:\n",
    "        points.append(\n",
    "            np.array(\n",
    "                [\n",
    "                    [prism[0], prism[2], prism[4]],\n",
    "                    [prism[1], prism[2], prism[4]],\n",
    "                    [prism[1], prism[3], prism[4]],\n",
    "                    [prism[0], prism[3], prism[4]],\n",
    "                    [prism[0], prism[2], prism[5]],\n",
    "                    [prism[1], prism[2], prism[5]],\n",
    "                    [prism[1], prism[3], prism[5]],\n",
    "                    [prism[0], prism[3], prism[5]]\n",
    "                ], \n",
    "                dtype=float\n",
    "            )\n",
    "        )\n",
    "    points = np.vstack(points)\n",
    "    \n",
    "    # create the model mesh\n",
    "    model_mesh = pv.UnstructuredGrid(cells, cell_type, points)\n",
    "    \n",
    "    # add physical property\n",
    "    model_mesh.cell_data['prop'] = prop.flatten(order=\"F\")\n",
    "\n",
    "    return model_mesh"
   ]
  },
  {
   "cell_type": "code",
   "execution_count": 9,
   "metadata": {},
   "outputs": [],
   "source": [
    "model_mesh = prisms_pyvista(model, density)"
   ]
  },
  {
   "cell_type": "code",
   "execution_count": 10,
   "metadata": {},
   "outputs": [
    {
     "data": {
      "text/html": [
       "<table><tr><th>Header</th><th>Data Arrays</th></tr><tr><td>\n",
       "<table>\n",
       "<tr><th>UnstructuredGrid</th><th>Information</th></tr>\n",
       "<tr><td>N Cells</td><td>3</td></tr>\n",
       "<tr><td>N Points</td><td>24</td></tr>\n",
       "<tr><td>X Bounds</td><td>-1.500e+03, 3.000e+03</td></tr>\n",
       "<tr><td>Y Bounds</td><td>0.000e+00, 3.000e+03</td></tr>\n",
       "<tr><td>Z Bounds</td><td>1.000e+01, 1.500e+03</td></tr>\n",
       "<tr><td>N Arrays</td><td>1</td></tr>\n",
       "</table>\n",
       "\n",
       "</td><td>\n",
       "<table>\n",
       "<tr><th>Name</th><th>Field</th><th>Type</th><th>N Comp</th><th>Min</th><th>Max</th></tr>\n",
       "<tr><td><b>prop</b></td><td>Cells</td><td>int64</td><td>1</td><td>1.500e+03</td><td>3.000e+03</td></tr>\n",
       "</table>\n",
       "\n",
       "</td></tr> </table>"
      ],
      "text/plain": [
       "UnstructuredGrid (0x7f21937b72e0)\n",
       "  N Cells:\t3\n",
       "  N Points:\t24\n",
       "  X Bounds:\t-1.500e+03, 3.000e+03\n",
       "  Y Bounds:\t0.000e+00, 3.000e+03\n",
       "  Z Bounds:\t1.000e+01, 1.500e+03\n",
       "  N Arrays:\t1"
      ]
     },
     "execution_count": 10,
     "metadata": {},
     "output_type": "execute_result"
    }
   ],
   "source": [
    "model_mesh"
   ]
  },
  {
   "cell_type": "code",
   "execution_count": 11,
   "metadata": {},
   "outputs": [
    {
     "data": {
      "application/vnd.jupyter.widget-view+json": {
       "model_id": "b4e1202be37f46f289787790b2ef1ff9",
       "version_major": 2,
       "version_minor": 0
      },
      "text/plain": [
       "ViewInteractiveWidget(height=768, layout=Layout(height='auto', width='100%'), width=1024)"
      ]
     },
     "metadata": {},
     "output_type": "display_data"
    }
   ],
   "source": [
    "pl = pv.Plotter()\n",
    "\n",
    "# parameters of data colorbar\n",
    "data_sargs = dict(\n",
    "    title='gravity disturbance (mGal)',\n",
    "    title_font_size=20,\n",
    "    label_font_size=16,\n",
    "    shadow=True,\n",
    "    n_labels=7,\n",
    "    italic=True,\n",
    "    fmt=\"%.1f\",\n",
    "    font_family=\"arial\",\n",
    ")\n",
    "\n",
    "# add data\n",
    "pl.add_mesh(\n",
    "    data_mesh,\n",
    "    scalars='gz',\n",
    "    cmap='Reds',\n",
    "    style='points',\n",
    "    render_points_as_spheres=True,\n",
    "    point_size=4,\n",
    "    lighting=True,\n",
    "    scalar_bar_args=data_sargs,\n",
    "    opacity=0.80\n",
    ")\n",
    "\n",
    "# parameters of model colorbar\n",
    "model_sargs = dict(\n",
    "    title='density (kg/m³)',\n",
    "    title_font_size=20,\n",
    "    label_font_size=16,\n",
    "    shadow=True,\n",
    "    n_labels=7,\n",
    "    italic=True,\n",
    "    fmt=\"%.1f\",\n",
    "    font_family=\"arial\",\n",
    ")\n",
    "\n",
    "# add model\n",
    "pl.add_mesh(\n",
    "    model_mesh,\n",
    "    scalars='prop',\n",
    "    cmap='viridis',\n",
    "    lighting=True,\n",
    "    scalar_bar_args=model_sargs,\n",
    "    show_edges=True,\n",
    ")\n",
    "\n",
    "pl.show()"
   ]
  },
  {
   "cell_type": "code",
   "execution_count": null,
   "metadata": {},
   "outputs": [],
   "source": []
  }
 ],
 "metadata": {
  "kernelspec": {
   "display_name": "Python 3 (ipykernel)",
   "language": "python",
   "name": "python3"
  },
  "language_info": {
   "codemirror_mode": {
    "name": "ipython",
    "version": 3
   },
   "file_extension": ".py",
   "mimetype": "text/x-python",
   "name": "python",
   "nbconvert_exporter": "python",
   "pygments_lexer": "ipython3",
   "version": "3.9.7"
  }
 },
 "nbformat": 4,
 "nbformat_minor": 1
}
