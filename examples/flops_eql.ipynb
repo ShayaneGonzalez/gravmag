{
 "cells": [
  {
   "cell_type": "markdown",
   "id": "3180c16e",
   "metadata": {},
   "source": [
    "# Number of flop associated with different equivalent layer techniques"
   ]
  },
  {
   "cell_type": "code",
   "execution_count": 1,
   "id": "6f7d262a",
   "metadata": {},
   "outputs": [],
   "source": [
    "import matplotlib.pyplot as plt\n",
    "import numpy as np"
   ]
  },
  {
   "cell_type": "markdown",
   "id": "23b2fd49",
   "metadata": {},
   "source": [
    "The number of flops below consider the particular case in which there is a single equivalent source for each observation point, i.e., the number of equivalent sources (parameters) is equal to the number of data."
   ]
  },
  {
   "cell_type": "code",
   "execution_count": null,
   "id": "d4e733ef",
   "metadata": {},
   "outputs": [],
   "source": [
    "def Cholesky(N_data):\n",
    "    '''\n",
    "    Number of flops associated with the classical approach\n",
    "    via Cholesky's decomposition.\n",
    "    '''\n",
    "    \n",
    "    # total number of flops\n",
    "    flops = (5/6)*(N_data**3) + 4*(N_data**2)\n",
    "    \n",
    "    return flops\n",
    "\n",
    "def standard_CGLS(N_data, iterations=50):\n",
    "    '''\n",
    "    Number of flops associated with Polynomial Equivalent\n",
    "    Layer (Oliveira Jr. et al, 2013).\n",
    "    '''\n",
    "    \n",
    "    flops = 2*(N_data**2) + iterations*((4*(N_data**2)) + 12*N_data)\n",
    "    \n",
    "    return flops\n",
    "\n",
    "def convolutional_mag(N_data, iterations=50, kappa=5):\n",
    "    '''\n",
    "    Number of flops associated with the convolutional\n",
    "    equivalent layer technique for magnetic data\n",
    "    (Takahashi et al., 2022).\n",
    "    '''\n",
    "    \n",
    "    flops = (\n",
    "        kappa*16*np.log2(4*N_data) + 24*N_data + \n",
    "        iterations*(kappa*)\n",
    "    )"
   ]
  }
 ],
 "metadata": {
  "kernelspec": {
   "display_name": "Python 3 (ipykernel)",
   "language": "python",
   "name": "python3"
  },
  "language_info": {
   "codemirror_mode": {
    "name": "ipython",
    "version": 3
   },
   "file_extension": ".py",
   "mimetype": "text/x-python",
   "name": "python",
   "nbconvert_exporter": "python",
   "pygments_lexer": "ipython3",
   "version": "3.9.7"
  }
 },
 "nbformat": 4,
 "nbformat_minor": 5
}
